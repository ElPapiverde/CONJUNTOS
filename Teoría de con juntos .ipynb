{
 "cells": [
  {
   "cell_type": "markdown",
   "id": "2ab011ce",
   "metadata": {},
   "source": [
    "<h1>Teoria de conjuntos"
   ]
  },
  {
   "cell_type": "markdown",
   "id": "f338a0d5",
   "metadata": {},
   "source": [
    "## ¿Que es?"
   ]
  },
  {
   "cell_type": "markdown",
   "id": "d81816fb",
   "metadata": {},
   "source": [
    "La Teoría de Conjuntos es una rama de las matemáticas que se ocupa del estudio de conjuntos, que son colecciones de objetos bien definidos. Fue desarrollada a finales del siglo XIX por el matemático Georg Cantor y desde entonces ha sido fundamental en diversos campos de las matemáticas y la lógica.\n",
    "\n",
    "Los conjuntos pueden contener cualquier tipo de objeto: números, letras, puntos, personas, etc. La Teoría de Conjuntos proporciona un marco formal para describir y analizar las propiedades y relaciones entre estos conjuntos, así como las operaciones que se pueden realizar con ellos, como la unión, la intersección, la diferencia, etc."
   ]
  },
  {
   "cell_type": "markdown",
   "id": "2a4424b2",
   "metadata": {},
   "source": [
    "## Unión:"
   ]
  },
  {
   "cell_type": "markdown",
   "id": "c5bf323e",
   "metadata": {},
   "source": [
    " La unión de dos conjuntos A y B, denotada por A ∪ B, es el conjunto que contiene todos los elementos que pertenecen a A o a B (o a ambos)."
   ]
  },
  {
   "cell_type": "markdown",
   "id": "23ce5578",
   "metadata": {},
   "source": [
    "A \\cup B"
   ]
  },
  {
   "cell_type": "markdown",
   "id": "300f8801",
   "metadata": {},
   "source": [
    "Si A = {1, 2, 3} y B = {3, 4, 5}, entonces A ∪ B = {1, 2, 3, 4, 5}."
   ]
  },
  {
   "cell_type": "markdown",
   "id": "5e96c8a6",
   "metadata": {},
   "source": [
    "$\n",
    "A \\cup B\n",
    "$"
   ]
  },
  {
   "cell_type": "markdown",
   "id": "dc7afc32",
   "metadata": {},
   "source": [
    "<img src='captura de pantalla 2024-04-02 230624.png'>"
   ]
  },
  {
   "cell_type": "markdown",
   "id": "da473c09",
   "metadata": {},
   "source": [
    "## Intersección:"
   ]
  },
  {
   "cell_type": "markdown",
   "id": "100a7670",
   "metadata": {},
   "source": [
    "La intersección de dos conjuntos A y B, denotada por A ∩ B, es el conjunto que contiene todos los elementos que pertenecen tanto a A como a B."
   ]
  },
  {
   "cell_type": "markdown",
   "id": "1187156b",
   "metadata": {},
   "source": [
    "A \\cap B"
   ]
  },
  {
   "cell_type": "markdown",
   "id": "47b537f0",
   "metadata": {},
   "source": [
    "Si A = {1, 2, 3} y B = {3, 4, 5}, entonces A ∩ B = {3}."
   ]
  },
  {
   "cell_type": "markdown",
   "id": "27a1418a",
   "metadata": {},
   "source": [
    "$\n",
    "A \\cap B\n",
    "$"
   ]
  },
  {
   "cell_type": "markdown",
   "id": "030fa440",
   "metadata": {},
   "source": [
    "<img src='unnamed.jpg'>"
   ]
  },
  {
   "cell_type": "markdown",
   "id": "4e276ab4",
   "metadata": {},
   "source": [
    "## Diferencia:"
   ]
  },
  {
   "cell_type": "markdown",
   "id": "1d694cec",
   "metadata": {},
   "source": [
    " La diferencia entre dos conjuntos A y B, denotada por A - B, es el conjunto que contiene todos los elementos que pertenecen a A pero no a B."
   ]
  },
  {
   "cell_type": "markdown",
   "id": "a8e18ee0",
   "metadata": {},
   "source": [
    "A - B"
   ]
  },
  {
   "cell_type": "markdown",
   "id": "08ac1f1e",
   "metadata": {},
   "source": [
    "Si A = {1, 2, 3} y B = {3, 4, 5}, entonces A - B = {1, 2}."
   ]
  },
  {
   "cell_type": "markdown",
   "id": "dc5e2fc6",
   "metadata": {},
   "source": [
    "$A - B\n",
    "$"
   ]
  },
  {
   "cell_type": "markdown",
   "id": "9e2fb671",
   "metadata": {},
   "source": [
    "<img src='pepe.jpg'>"
   ]
  },
  {
   "cell_type": "markdown",
   "id": "8cc1c4be",
   "metadata": {},
   "source": [
    "## Diferencia Simétrica:"
   ]
  },
  {
   "cell_type": "markdown",
   "id": "65ee0fa7",
   "metadata": {},
   "source": [
    " La diferencia simétrica entre dos conjuntos A y B, denotada por A Δ B (o A ⊕ B), es el conjunto que contiene todos los elementos que pertenecen a A o a B, pero no a ambos.\n"
   ]
  },
  {
   "cell_type": "markdown",
   "id": "30f2af19",
   "metadata": {},
   "source": [
    "$A \\triangle B$"
   ]
  },
  {
   "cell_type": "markdown",
   "id": "d67f51bc",
   "metadata": {},
   "source": [
    "Si A = {1, 2, 3} y B = {3, 4, 5}, entonces A Δ B = {1, 2, 4, 5}."
   ]
  },
  {
   "cell_type": "markdown",
   "id": "8311c647",
   "metadata": {},
   "source": [
    "$A \\triangle B\n",
    "$"
   ]
  },
  {
   "cell_type": "markdown",
   "id": "b59f6a4c",
   "metadata": {},
   "source": [
    "<img src='maxresdefault.jpg'>"
   ]
  },
  {
   "cell_type": "code",
   "execution_count": null,
   "id": "be20098a",
   "metadata": {},
   "outputs": [],
   "source": []
  }
 ],
 "metadata": {
  "kernelspec": {
   "display_name": "Python 3 (ipykernel)",
   "language": "python",
   "name": "python3"
  },
  "language_info": {
   "codemirror_mode": {
    "name": "ipython",
    "version": 3
   },
   "file_extension": ".py",
   "mimetype": "text/x-python",
   "name": "python",
   "nbconvert_exporter": "python",
   "pygments_lexer": "ipython3",
   "version": "3.11.5"
  }
 },
 "nbformat": 4,
 "nbformat_minor": 5
}
